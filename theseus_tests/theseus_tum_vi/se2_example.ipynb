{
 "cells": [
  {
   "cell_type": "code",
   "execution_count": 1,
   "metadata": {},
   "outputs": [],
   "source": [
    "import torch\n",
    "import theseus as th\n",
    "\n",
    "torch.set_default_dtype(torch.float32)"
   ]
  },
  {
   "cell_type": "code",
   "execution_count": 2,
   "metadata": {},
   "outputs": [],
   "source": [
    "def pose_error(optim_vars, aux_vars):\n",
    "    pass"
   ]
  },
  {
   "cell_type": "code",
   "execution_count": 3,
   "metadata": {},
   "outputs": [
    {
     "data": {
      "text/plain": [
       "[SE2(tensor=tensor([[0., 0., 1., 0.]]), name=gt_start),\n",
       " SE2(tensor=tensor([[1., 0., 1., 0.]]), name=gt_finish)]"
      ]
     },
     "execution_count": 3,
     "metadata": {},
     "output_type": "execute_result"
    }
   ],
   "source": [
    "gt_poses = [\n",
    "    th.SE2(torch.tensor([[0.,0,0]]),name='gt_start'),\n",
    "    th.SE2(torch.tensor([[1.,0,0]]),name='gt_finish')\n",
    "]\n",
    "gt_poses"
   ]
  },
  {
   "cell_type": "code",
   "execution_count": 4,
   "metadata": {},
   "outputs": [
    {
     "name": "stdout",
     "output_type": "stream",
     "text": [
      "SE2(xytheta=tensor([[0., 0., 0.]]), name=gt_start)\n",
      "SE2(xytheta=tensor([[1., 0., 0.]]), name=gt_finish)\n"
     ]
    }
   ],
   "source": [
    "for g in gt_poses:\n",
    "    print(g)"
   ]
  },
  {
   "cell_type": "code",
   "execution_count": 5,
   "metadata": {},
   "outputs": [
    {
     "data": {
      "text/plain": [
       "[SE2(tensor=tensor([[ 0.5052,  0.0529,  0.2942, -0.9557]]), name=SE2_1),\n",
       " SE2(tensor=tensor([[ 0.1407,  0.2569,  0.6128, -0.7902]]), name=SE2_2)]"
      ]
     },
     "execution_count": 5,
     "metadata": {},
     "output_type": "execute_result"
    }
   ],
   "source": [
    "pred_poses =[th.rand_se2(1), th.rand_se2(1)]\n",
    "# pred_poses = gt_poses.copy()\n",
    "pred_poses[0].name = \"SE2_1\"\n",
    "pred_poses[1].name = \"SE2_2\"\n",
    "pred_poses "
   ]
  },
  {
   "cell_type": "code",
   "execution_count": 28,
   "metadata": {},
   "outputs": [
    {
     "data": {
      "text/plain": [
       "SE2(tensor=tensor([[1., 0., 1., 0.]]), name=SE2__2724)"
      ]
     },
     "execution_count": 28,
     "metadata": {},
     "output_type": "execute_result"
    }
   ],
   "source": [
    "measurement = gt_poses[0].between(gt_poses[1])\n",
    "measurement"
   ]
  },
  {
   "cell_type": "code",
   "execution_count": 7,
   "metadata": {},
   "outputs": [
    {
     "data": {
      "text/plain": [
       "SE2(tensor=tensor([[1., 0., 1., 0.]]), name=Odo_1)"
      ]
     },
     "execution_count": 7,
     "metadata": {},
     "output_type": "execute_result"
    }
   ],
   "source": [
    "measurement.name = \"Odo_1\"\n",
    "measurement"
   ]
  },
  {
   "cell_type": "code",
   "execution_count": 8,
   "metadata": {},
   "outputs": [
    {
     "data": {
      "text/plain": [
       "'odo_weight_1'"
      ]
     },
     "execution_count": 8,
     "metadata": {},
     "output_type": "execute_result"
    }
   ],
   "source": [
    "odo_w_1 = th.ScaleCostWeight(1.0, name=\"odo_weight_1\")\n",
    "odo_w_1.name"
   ]
  },
  {
   "cell_type": "code",
   "execution_count": 9,
   "metadata": {},
   "outputs": [],
   "source": [
    "odo_cost_f = th.Between(pred_poses[0], pred_poses[1], measurement, cost_weight=odo_w_1, name='odo_cf')"
   ]
  },
  {
   "cell_type": "code",
   "execution_count": 10,
   "metadata": {},
   "outputs": [
    {
     "data": {
      "text/plain": [
       "tensor([[-1.3401, -0.0502,  0.3610]])"
      ]
     },
     "execution_count": 10,
     "metadata": {},
     "output_type": "execute_result"
    }
   ],
   "source": [
    "odo_cost_f.error()"
   ]
  },
  {
   "cell_type": "code",
   "execution_count": 11,
   "metadata": {},
   "outputs": [],
   "source": [
    "objective = th.Objective()"
   ]
  },
  {
   "cell_type": "code",
   "execution_count": 12,
   "metadata": {},
   "outputs": [],
   "source": [
    "# def quad_error_fn(optim_vars, aux_vars):\n",
    "#     print(optim_vars)\n",
    "#     p1, p2 = optim_vars\n",
    "    \n",
    "#     g1, g2 = aux_vars\n",
    "\n",
    "#     odom = g1.between(g2)\n",
    "\n",
    "#     odo_pred = p1.between(p2)\n",
    "\n",
    "#     relative_pose = odom.local(odo_pred)\n",
    "\n",
    "#     return relative_pose.norm()\n"
   ]
  },
  {
   "cell_type": "code",
   "execution_count": 13,
   "metadata": {},
   "outputs": [],
   "source": [
    "# optim_vars = pred_poses[0], pred_poses[1]\n",
    "# aux_vars = gt_poses[0], gt_poses[1]\n",
    "# cost_fn = th.AutoDiffCostFunction(optim_vars, quad_error_fn, dim = 1,cost_weight=th.ScaleCostWeight(2.0, name='cost_weight'), aux_vars=aux_vars, name='se2 between func')"
   ]
  },
  {
   "cell_type": "code",
   "execution_count": 14,
   "metadata": {},
   "outputs": [],
   "source": [
    "# err = quad_error_fn(optim_vars, aux_vars)"
   ]
  },
  {
   "cell_type": "code",
   "execution_count": 15,
   "metadata": {},
   "outputs": [],
   "source": [
    "objective.add(odo_cost_f)"
   ]
  },
  {
   "cell_type": "code",
   "execution_count": 16,
   "metadata": {},
   "outputs": [
    {
     "data": {
      "text/plain": [
       "{<theseus.core.cost_weight.ScaleCostWeight at 0x7f81e5802c10>: [<theseus.embodied.measurements.between.Between at 0x7f81e5823070>]}"
      ]
     },
     "execution_count": 16,
     "metadata": {},
     "output_type": "execute_result"
    }
   ],
   "source": [
    "objective.cost_functions_for_weights"
   ]
  },
  {
   "cell_type": "code",
   "execution_count": 17,
   "metadata": {},
   "outputs": [
    {
     "data": {
      "text/plain": [
       "OrderedDict([('Odo_1', SE2(tensor=tensor([[1., 0., 1., 0.]]), name=Odo_1)),\n",
       "             ('Variable__26',\n",
       "              Variable(tensor=tensor([[1.]]), name=Variable__26))])"
      ]
     },
     "execution_count": 17,
     "metadata": {},
     "output_type": "execute_result"
    }
   ],
   "source": [
    "objective.aux_vars"
   ]
  },
  {
   "cell_type": "code",
   "execution_count": 18,
   "metadata": {},
   "outputs": [
    {
     "data": {
      "text/plain": [
       "OrderedDict([('SE2_1',\n",
       "              SE2(tensor=tensor([[ 0.5052,  0.0529,  0.2942, -0.9557]]), name=SE2_1)),\n",
       "             ('SE2_2',\n",
       "              SE2(tensor=tensor([[ 0.1407,  0.2569,  0.6128, -0.7902]]), name=SE2_2))])"
      ]
     },
     "execution_count": 18,
     "metadata": {},
     "output_type": "execute_result"
    }
   ],
   "source": [
    "objective.optim_vars"
   ]
  },
  {
   "cell_type": "code",
   "execution_count": 19,
   "metadata": {},
   "outputs": [],
   "source": [
    "optimizer = th.LevenbergMarquardt(\n",
    "    objective,\n",
    "    th.CholeskyDenseSolver,\n",
    "    max_iterations=50,\n",
    "    step_size=0.3\n",
    ")"
   ]
  },
  {
   "cell_type": "code",
   "execution_count": 20,
   "metadata": {},
   "outputs": [],
   "source": [
    "theseus_optim = th.TheseusLayer(optimizer)"
   ]
  },
  {
   "cell_type": "code",
   "execution_count": 21,
   "metadata": {},
   "outputs": [],
   "source": [
    "pred_poses =[th.rand_se2(1), th.rand_se2(1)]\n",
    "pred_poses[0].name = \"SE2_1\"\n",
    "pred_poses[1].name = \"SE2_2\"\n",
    "pred_poses\n",
    "\n",
    "theseus_inputs = {\n",
    "    # \"gt_start\" : gt_poses[0],\n",
    "    # \"gt_finish\" : gt_poses[1],\n",
    "    \"Odo_1\" : measurement,\n",
    "    \"SE2_1\" : pred_poses[0],\n",
    "    \"SE2_2\" : pred_poses[1]\n",
    "}"
   ]
  },
  {
   "cell_type": "code",
   "execution_count": 22,
   "metadata": {},
   "outputs": [
    {
     "data": {
      "text/plain": [
       "{'Odo_1': SE2(tensor=tensor([[1., 0., 1., 0.]]), name=Odo_1),\n",
       " 'SE2_1': SE2(tensor=tensor([[ 0.3063,  0.6231, -0.4794,  0.8776]]), name=SE2_1),\n",
       " 'SE2_2': SE2(tensor=tensor([[ 0.8779,  0.2087, -0.5828,  0.8126]]), name=SE2_2)}"
      ]
     },
     "execution_count": 22,
     "metadata": {},
     "output_type": "execute_result"
    }
   ],
   "source": [
    "theseus_inputs"
   ]
  },
  {
   "cell_type": "code",
   "execution_count": 23,
   "metadata": {},
   "outputs": [],
   "source": [
    "objective.update(theseus_inputs)"
   ]
  },
  {
   "cell_type": "code",
   "execution_count": 24,
   "metadata": {},
   "outputs": [
    {
     "name": "stdout",
     "output_type": "stream",
     "text": [
      "Nonlinear optimizer. Iteration: 0. Error: 1.3961745500564575\n",
      "Nonlinear optimizer. Iteration: 1. Error: 0.6847780346870422\n",
      "Nonlinear optimizer. Iteration: 2. Error: 0.33577781915664673\n",
      "Nonlinear optimizer. Iteration: 3. Error: 0.16462397575378418\n",
      "Nonlinear optimizer. Iteration: 4. Error: 0.08070533722639084\n",
      "Nonlinear optimizer. Iteration: 5. Error: 0.03956366330385208\n",
      "Nonlinear optimizer. Iteration: 6. Error: 0.01939474232494831\n",
      "Nonlinear optimizer. Iteration: 7. Error: 0.009507530368864536\n",
      "Nonlinear optimizer. Iteration: 8. Error: 0.00466070557013154\n",
      "Nonlinear optimizer. Iteration: 9. Error: 0.002284722402691841\n",
      "Nonlinear optimizer. Iteration: 10. Error: 0.0011199963046237826\n",
      "Nonlinear optimizer. Iteration: 11. Error: 0.0005490321200340986\n",
      "Nonlinear optimizer. Iteration: 12. Error: 0.0002691414556466043\n",
      "Nonlinear optimizer. Iteration: 13. Error: 0.00013193589984439313\n",
      "Nonlinear optimizer. Iteration: 14. Error: 6.467676575994119e-05\n",
      "Nonlinear optimizer. Iteration: 15. Error: 3.170491982018575e-05\n",
      "Nonlinear optimizer. Iteration: 16. Error: 1.5542002074653283e-05\n",
      "Nonlinear optimizer. Iteration: 17. Error: 7.6188744060345925e-06\n",
      "Nonlinear optimizer. Iteration: 18. Error: 3.734906158570084e-06\n",
      "Nonlinear optimizer. Iteration: 19. Error: 1.830900032473437e-06\n",
      "Nonlinear optimizer. Iteration: 20. Error: 8.975525815912988e-07\n",
      "Nonlinear optimizer. Iteration: 21. Error: 4.3997903276249417e-07\n",
      "Nonlinear optimizer. Iteration: 22. Error: 2.1569279340383218e-07\n",
      "Nonlinear optimizer. Iteration: 23. Error: 1.0577929288047017e-07\n",
      "Nonlinear optimizer. Iteration: 24. Error: 5.182948825677158e-08\n",
      "Nonlinear optimizer. Iteration: 25. Error: 2.5389743640857887e-08\n",
      "Nonlinear optimizer. Iteration: 26. Error: 1.2454402842365653e-08\n",
      "Nonlinear optimizer. Iteration: 27. Error: 6.106783523307513e-09\n",
      "Nonlinear optimizer. Iteration: 28. Error: 2.9890792063724803e-09\n",
      "Nonlinear optimizer. Iteration: 29. Error: 1.4638831258295681e-09\n",
      "Nonlinear optimizer. Iteration: 30. Error: 7.148544534096857e-10\n",
      "Nonlinear optimizer. Iteration: 31. Error: 3.5294789313411457e-10\n",
      "Nonlinear optimizer. Iteration: 32. Error: 1.7150547648725478e-10\n",
      "Nonlinear optimizer. Iteration: 33. Error: 8.427215175688119e-11\n",
      "Best solution: {'SE2_1': tensor([[ 0.8361, -0.0195, -0.4812,  0.8766]]), 'SE2_2': tensor([[ 0.3549,  0.8571, -0.4812,  0.8766]])}\n"
     ]
    }
   ],
   "source": [
    "with torch.no_grad():\n",
    "    updated_inputs, info = theseus_optim.forward(\n",
    "        theseus_inputs, optimizer_kwargs={\"track_best_solution\": True, \"verbose\":True})\n",
    "print(\"Best solution:\", info.best_solution)"
   ]
  },
  {
   "cell_type": "code",
   "execution_count": 25,
   "metadata": {},
   "outputs": [
    {
     "data": {
      "text/plain": [
       "{'SE2_1': tensor([[ 0.8361, -0.0195, -0.4812,  0.8766]]),\n",
       " 'SE2_2': tensor([[ 0.3549,  0.8571, -0.4812,  0.8766]])}"
      ]
     },
     "execution_count": 25,
     "metadata": {},
     "output_type": "execute_result"
    }
   ],
   "source": [
    "t_1 = info.best_solution['SE2_1']\n",
    "t_2 = info.best_solution['SE2_2']\n",
    "\n",
    "info.best_solution"
   ]
  },
  {
   "cell_type": "code",
   "execution_count": 26,
   "metadata": {},
   "outputs": [
    {
     "data": {
      "text/plain": [
       "tensor(1.0000)"
      ]
     },
     "execution_count": 26,
     "metadata": {},
     "output_type": "execute_result"
    }
   ],
   "source": [
    "(t_1[:,:2] - t_2[:,:2]).norm()"
   ]
  },
  {
   "cell_type": "code",
   "execution_count": 27,
   "metadata": {},
   "outputs": [
    {
     "data": {
      "text/plain": [
       "OrderedDict([('Odo_1', SE2(tensor=tensor([[1., 0., 1., 0.]]), name=Odo_1)),\n",
       "             ('Variable__26',\n",
       "              Variable(tensor=tensor([[1.]]), name=Variable__26))])"
      ]
     },
     "execution_count": 27,
     "metadata": {},
     "output_type": "execute_result"
    }
   ],
   "source": [
    "objective.aux_vars"
   ]
  },
  {
   "cell_type": "code",
   "execution_count": null,
   "metadata": {},
   "outputs": [],
   "source": []
  }
 ],
 "metadata": {
  "kernelspec": {
   "display_name": "theseus_env",
   "language": "python",
   "name": "python3"
  },
  "language_info": {
   "codemirror_mode": {
    "name": "ipython",
    "version": 3
   },
   "file_extension": ".py",
   "mimetype": "text/x-python",
   "name": "python",
   "nbconvert_exporter": "python",
   "pygments_lexer": "ipython3",
   "version": "3.8.0"
  },
  "orig_nbformat": 4
 },
 "nbformat": 4,
 "nbformat_minor": 2
}
