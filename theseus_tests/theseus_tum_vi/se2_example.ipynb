{
 "cells": [
  {
   "cell_type": "code",
   "execution_count": null,
   "metadata": {},
   "outputs": [],
   "source": [
    "import torch\n",
    "import theseus as th\n",
    "\n",
    "torch.set_default_dtype(torch.float32)"
   ]
  },
  {
   "cell_type": "code",
   "execution_count": null,
   "metadata": {},
   "outputs": [],
   "source": [
    "def pose_error(optim_vars, aux_vars):\n",
    "    pass"
   ]
  },
  {
   "cell_type": "code",
   "execution_count": null,
   "metadata": {},
   "outputs": [],
   "source": [
    "gt_poses = [\n",
    "    th.SE2(torch.tensor([[0.,0,0]]),name='gt_start'),\n",
    "    th.SE2(torch.tensor([[1.,0,0]]),name='gt_finish')\n",
    "]\n",
    "gt_poses"
   ]
  },
  {
   "cell_type": "code",
   "execution_count": null,
   "metadata": {},
   "outputs": [],
   "source": [
    "for g in gt_poses:\n",
    "    print(g)"
   ]
  },
  {
   "cell_type": "code",
   "execution_count": null,
   "metadata": {},
   "outputs": [],
   "source": [
    "pred_poses =[th.rand_se2(1), th.rand_se2(1)]\n",
    "# pred_poses = gt_poses.copy()\n",
    "pred_poses[0].name = \"SE2_1\"\n",
    "pred_poses[1].name = \"SE2_2\"\n",
    "pred_poses "
   ]
  },
  {
   "cell_type": "code",
   "execution_count": null,
   "metadata": {},
   "outputs": [],
   "source": [
    "measurement = gt_poses[0].between(gt_poses[1])\n",
    "measurement"
   ]
  },
  {
   "cell_type": "code",
   "execution_count": null,
   "metadata": {},
   "outputs": [],
   "source": [
    "measurement.name = \"Odo_1\"\n",
    "measurement"
   ]
  },
  {
   "cell_type": "code",
   "execution_count": null,
   "metadata": {},
   "outputs": [],
   "source": [
    "odo_w_1 = th.ScaleCostWeight(1.0, name=\"odo_weight_1\")\n",
    "odo_w_1.name"
   ]
  },
  {
   "cell_type": "code",
   "execution_count": null,
   "metadata": {},
   "outputs": [],
   "source": [
    "odo_cost_f = th.Between(pred_poses[0], pred_poses[1], measurement, cost_weight=odo_w_1, name='odo_cf')"
   ]
  },
  {
   "cell_type": "code",
   "execution_count": null,
   "metadata": {},
   "outputs": [],
   "source": [
    "odo_cost_f.error()"
   ]
  },
  {
   "cell_type": "code",
   "execution_count": null,
   "metadata": {},
   "outputs": [],
   "source": [
    "objective = th.Objective()"
   ]
  },
  {
   "cell_type": "code",
   "execution_count": null,
   "metadata": {},
   "outputs": [],
   "source": [
    "gps_cost_f = th.Difference(pred_poses[0],gt_poses[0], th.ScaleCostWeight(1.0, name=\"gps_weight_1\"),name=\"gps_cf\")"
   ]
  },
  {
   "cell_type": "code",
   "execution_count": null,
   "metadata": {},
   "outputs": [],
   "source": [
    "# optim_vars = pred_poses[0], pred_poses[1]\n",
    "# aux_vars = gt_poses[0], gt_poses[1]\n",
    "# cost_fn = th.AutoDiffCostFunction(optim_vars, quad_error_fn, dim = 1,cost_weight=th.ScaleCostWeight(2.0, name='cost_weight'), aux_vars=aux_vars, name='se2 between func')"
   ]
  },
  {
   "cell_type": "code",
   "execution_count": null,
   "metadata": {},
   "outputs": [],
   "source": [
    "# err = quad_error_fn(optim_vars, aux_vars)"
   ]
  },
  {
   "cell_type": "code",
   "execution_count": null,
   "metadata": {},
   "outputs": [],
   "source": [
    "objective.add(odo_cost_f)\n",
    "objective.add(gps_cost_f)"
   ]
  },
  {
   "cell_type": "code",
   "execution_count": null,
   "metadata": {},
   "outputs": [],
   "source": [
    "objective.cost_functions_for_weights"
   ]
  },
  {
   "cell_type": "code",
   "execution_count": null,
   "metadata": {},
   "outputs": [],
   "source": [
    "objective.aux_vars"
   ]
  },
  {
   "cell_type": "code",
   "execution_count": null,
   "metadata": {},
   "outputs": [],
   "source": [
    "objective.optim_vars"
   ]
  },
  {
   "cell_type": "code",
   "execution_count": null,
   "metadata": {},
   "outputs": [],
   "source": [
    "optimizer = th.LevenbergMarquardt(\n",
    "    objective,\n",
    "    th.CholeskyDenseSolver,\n",
    "    max_iterations=50,\n",
    "    step_size=0.3\n",
    ")"
   ]
  },
  {
   "cell_type": "code",
   "execution_count": null,
   "metadata": {},
   "outputs": [],
   "source": [
    "theseus_optim = th.TheseusLayer(optimizer)"
   ]
  },
  {
   "cell_type": "code",
   "execution_count": null,
   "metadata": {},
   "outputs": [],
   "source": [
    "pred_poses =[th.rand_se2(1), th.rand_se2(1)]\n",
    "pred_poses[0].name = \"SE2_1\"\n",
    "pred_poses[1].name = \"SE2_2\"\n",
    "pred_poses\n",
    "\n",
    "theseus_inputs = {\n",
    "    # \"gt_start\" : gt_poses[0],\n",
    "    # \"gt_finish\" : gt_poses[1],\n",
    "    \"Odo_1\" : measurement,\n",
    "    \"SE2_1\" : pred_poses[0],\n",
    "    \"SE2_2\" : pred_poses[1]\n",
    "}"
   ]
  },
  {
   "cell_type": "code",
   "execution_count": null,
   "metadata": {},
   "outputs": [],
   "source": [
    "theseus_inputs"
   ]
  },
  {
   "cell_type": "code",
   "execution_count": null,
   "metadata": {},
   "outputs": [],
   "source": [
    "objective.update(theseus_inputs)"
   ]
  },
  {
   "cell_type": "code",
   "execution_count": null,
   "metadata": {},
   "outputs": [],
   "source": [
    "with torch.no_grad():\n",
    "    updated_inputs, info = theseus_optim.forward(\n",
    "        theseus_inputs, optimizer_kwargs={\"track_best_solution\": True, \"verbose\":True})\n",
    "print(\"Best solution:\", info.best_solution)"
   ]
  },
  {
   "cell_type": "code",
   "execution_count": null,
   "metadata": {},
   "outputs": [],
   "source": [
    "t_1 = info.best_solution['SE2_1']\n",
    "t_2 = info.best_solution['SE2_2']\n",
    "\n",
    "info.best_solution"
   ]
  },
  {
   "cell_type": "code",
   "execution_count": null,
   "metadata": {},
   "outputs": [],
   "source": [
    "(t_1 - t_2).norm()"
   ]
  },
  {
   "cell_type": "code",
   "execution_count": null,
   "metadata": {},
   "outputs": [],
   "source": [
    "(t_1 - gt_poses[0].tensor).norm()"
   ]
  },
  {
   "cell_type": "code",
   "execution_count": null,
   "metadata": {},
   "outputs": [],
   "source": [
    "(t_2 - gt_poses[1].tensor).norm()"
   ]
  },
  {
   "cell_type": "code",
   "execution_count": null,
   "metadata": {},
   "outputs": [],
   "source": [
    "random_rotation = th.rand_so3(1)"
   ]
  },
  {
   "cell_type": "code",
   "execution_count": null,
   "metadata": {},
   "outputs": [],
   "source": [
    "random_rotation.tensor"
   ]
  },
  {
   "cell_type": "code",
   "execution_count": null,
   "metadata": {},
   "outputs": [],
   "source": [
    "random_rotation.tensor.shape"
   ]
  },
  {
   "cell_type": "code",
   "execution_count": null,
   "metadata": {},
   "outputs": [],
   "source": []
  }
 ],
 "metadata": {
  "kernelspec": {
   "display_name": "theseus_env",
   "language": "python",
   "name": "python3"
  },
  "language_info": {
   "codemirror_mode": {
    "name": "ipython",
    "version": 3
   },
   "file_extension": ".py",
   "mimetype": "text/x-python",
   "name": "python",
   "nbconvert_exporter": "python",
   "pygments_lexer": "ipython3",
   "version": "3.8.0"
  },
  "orig_nbformat": 4
 },
 "nbformat": 4,
 "nbformat_minor": 2
}
